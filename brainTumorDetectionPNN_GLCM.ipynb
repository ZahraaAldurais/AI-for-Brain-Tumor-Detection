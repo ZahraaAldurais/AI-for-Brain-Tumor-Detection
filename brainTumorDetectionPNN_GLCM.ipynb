{
  "nbformat": 4,
  "nbformat_minor": 0,
  "metadata": {
    "colab": {
      "provenance": []
    },
    "kernelspec": {
      "name": "python3",
      "display_name": "Python 3"
    },
    "language_info": {
      "name": "python"
    }
  },
  "cells": [
    {
      "cell_type": "markdown",
      "source": [
        "# PNN for Brain Tumor Detection based on GLCM"
      ],
      "metadata": {
        "id": "5-w-M053n_ny"
      }
    },
    {
      "cell_type": "markdown",
      "source": [
        "## Import the Dataset and Libraries\n",
        "In this section we need to get the dataset. The dataset is available on a github repository. The repository contains images of brain tumor and normal brain images. The author has also performed augmentation on the dataset, and it is also provided. We use the augmented images for our training purpose.\n",
        "<br>Once the repository is cloned, we will import all the required libraries that we need for our problem."
      ],
      "metadata": {
        "id": "VrP45pdnoHZP"
      }
    },
    {
      "cell_type": "code",
      "execution_count": null,
      "metadata": {
        "id": "JzFCmuPAT0jH"
      },
      "outputs": [],
      "source": [
        "!git  clone https://github.com/MohamedAliHabib/Brain-Tumor-Detection"
      ]
    },
    {
      "cell_type": "code",
      "source": [
        "# Import necessary libraries\n",
        "import numpy as np\n",
        "import os\n",
        "from skimage.feature import greycomatrix, greycoprops\n",
        "from skimage.color import rgb2gray\n",
        "from keras.models import Sequential\n",
        "from keras.layers import Conv2D, MaxPooling2D, Flatten, Dense\n",
        "import matplotlib.pyplot as plt  # Import plt module for visualization\n",
        "from keras.models import Sequential\n",
        "from keras.layers import Conv2D, MaxPooling2D, Flatten, Dense\n",
        "from skimage.transform import resize\n",
        "from skimage.feature import graycoprops, graycomatrix\n",
        "from sklearn.model_selection import train_test_split"
      ],
      "metadata": {
        "id": "MpeF-u37jain"
      },
      "execution_count": null,
      "outputs": []
    },
    {
      "cell_type": "markdown",
      "source": [
        "## Installing required libraries\n",
        "We need to install the libraries we are going to use for defining an example PNN for our problem."
      ],
      "metadata": {
        "id": "8cJaZtKvoW5X"
      }
    },
    {
      "cell_type": "code",
      "source": [
        "!pip install neupy"
      ],
      "metadata": {
        "colab": {
          "base_uri": "https://localhost:8080/"
        },
        "id": "6utmni_pUAjR",
        "outputId": "c66a7165-4d46-4de7-b962-aa81f8d83f71"
      },
      "execution_count": null,
      "outputs": [
        {
          "output_type": "stream",
          "name": "stdout",
          "text": [
            "Looking in indexes: https://pypi.org/simple, https://us-python.pkg.dev/colab-wheels/public/simple/\n",
            "Collecting neupy\n",
            "  Downloading neupy-0.8.2-py2.py3-none-any.whl (226 kB)\n",
            "\u001b[2K     \u001b[90m━━━━━━━━━━━━━━━━━━━━━━━━━━━━━━━━━━━━━━━\u001b[0m \u001b[32m226.8/226.8 kB\u001b[0m \u001b[31m4.2 MB/s\u001b[0m eta \u001b[36m0:00:00\u001b[0m\n",
            "\u001b[?25hRequirement already satisfied: numpy>=1.13.3 in /usr/local/lib/python3.10/dist-packages (from neupy) (1.22.4)\n",
            "Requirement already satisfied: scipy>=0.19.0 in /usr/local/lib/python3.10/dist-packages (from neupy) (1.10.1)\n",
            "INFO: pip is looking at multiple versions of neupy to determine which version is compatible with other requirements. This could take a while.\n",
            "  Downloading neupy-0.8.1-py2.py3-none-any.whl (225 kB)\n",
            "\u001b[2K     \u001b[90m━━━━━━━━━━━━━━━━━━━━━━━━━━━━━━━━━━━━━━\u001b[0m \u001b[32m226.0/226.0 kB\u001b[0m \u001b[31m10.0 MB/s\u001b[0m eta \u001b[36m0:00:00\u001b[0m\n",
            "\u001b[?25h  Downloading neupy-0.8.0-py2.py3-none-any.whl (224 kB)\n",
            "\u001b[2K     \u001b[90m━━━━━━━━━━━━━━━━━━━━━━━━━━━━━━━━━━━━━━\u001b[0m \u001b[32m224.7/224.7 kB\u001b[0m \u001b[31m19.7 MB/s\u001b[0m eta \u001b[36m0:00:00\u001b[0m\n",
            "\u001b[?25h  Downloading neupy-0.7.3-py2.py3-none-any.whl (212 kB)\n",
            "\u001b[2K     \u001b[90m━━━━━━━━━━━━━━━━━━━━━━━━━━━━━━━━━━━━━━\u001b[0m \u001b[32m212.3/212.3 kB\u001b[0m \u001b[31m19.0 MB/s\u001b[0m eta \u001b[36m0:00:00\u001b[0m\n",
            "\u001b[?25h  Downloading neupy-0.7.2-py2.py3-none-any.whl (208 kB)\n",
            "\u001b[2K     \u001b[90m━━━━━━━━━━━━━━━━━━━━━━━━━━━━━━━━━━━━━━\u001b[0m \u001b[32m208.5/208.5 kB\u001b[0m \u001b[31m17.0 MB/s\u001b[0m eta \u001b[36m0:00:00\u001b[0m\n",
            "\u001b[?25h  Downloading neupy-0.7.1-py2.py3-none-any.whl (207 kB)\n",
            "\u001b[2K     \u001b[90m━━━━━━━━━━━━━━━━━━━━━━━━━━━━━━━━━━━━━━\u001b[0m \u001b[32m208.0/208.0 kB\u001b[0m \u001b[31m18.7 MB/s\u001b[0m eta \u001b[36m0:00:00\u001b[0m\n",
            "\u001b[?25h  Downloading neupy-0.7.0-py2.py3-none-any.whl (198 kB)\n",
            "\u001b[2K     \u001b[90m━━━━━━━━━━━━━━━━━━━━━━━━━━━━━━━━━━━━━━\u001b[0m \u001b[32m198.6/198.6 kB\u001b[0m \u001b[31m18.4 MB/s\u001b[0m eta \u001b[36m0:00:00\u001b[0m\n",
            "\u001b[?25h  Downloading neupy-0.6.5-py2.py3-none-any.whl (197 kB)\n",
            "\u001b[2K     \u001b[90m━━━━━━━━━━━━━━━━━━━━━━━━━━━━━━━━━━━━━━\u001b[0m \u001b[32m197.2/197.2 kB\u001b[0m \u001b[31m18.0 MB/s\u001b[0m eta \u001b[36m0:00:00\u001b[0m\n",
            "\u001b[?25hCollecting Theano==1.0.0 (from neupy)\n",
            "  Downloading Theano-1.0.0.tar.gz (2.9 MB)\n",
            "\u001b[2K     \u001b[90m━━━━━━━━━━━━━━━━━━━━━━━━━━━━━━━━━━━━━━━━\u001b[0m \u001b[32m2.9/2.9 MB\u001b[0m \u001b[31m42.5 MB/s\u001b[0m eta \u001b[36m0:00:00\u001b[0m\n",
            "\u001b[?25h  Preparing metadata (setup.py) ... \u001b[?25l\u001b[?25hdone\n",
            "Requirement already satisfied: matplotlib>=1.5.1 in /usr/local/lib/python3.10/dist-packages (from neupy) (3.7.1)\n",
            "Collecting graphviz==0.5.1 (from neupy)\n",
            "  Downloading graphviz-0.5.1-py2.py3-none-any.whl (14 kB)\n",
            "Collecting tableprint==0.7.1 (from neupy)\n",
            "  Downloading tableprint-0.7.1.tar.gz (6.7 kB)\n",
            "  Preparing metadata (setup.py) ... \u001b[?25l\u001b[?25hdone\n",
            "Collecting progressbar2==3.34.3 (from neupy)\n",
            "  Downloading progressbar2-3.34.3-py2.py3-none-any.whl (25 kB)\n",
            "Requirement already satisfied: python-utils>=2.1.0 in /usr/local/lib/python3.10/dist-packages (from progressbar2==3.34.3->neupy) (3.5.2)\n",
            "Requirement already satisfied: six in /usr/local/lib/python3.10/dist-packages (from tableprint==0.7.1->neupy) (1.16.0)\n",
            "Requirement already satisfied: future in /usr/local/lib/python3.10/dist-packages (from tableprint==0.7.1->neupy) (0.18.3)\n",
            "Requirement already satisfied: wcwidth in /usr/local/lib/python3.10/dist-packages (from tableprint==0.7.1->neupy) (0.2.6)\n",
            "Requirement already satisfied: contourpy>=1.0.1 in /usr/local/lib/python3.10/dist-packages (from matplotlib>=1.5.1->neupy) (1.0.7)\n",
            "Requirement already satisfied: cycler>=0.10 in /usr/local/lib/python3.10/dist-packages (from matplotlib>=1.5.1->neupy) (0.11.0)\n",
            "Requirement already satisfied: fonttools>=4.22.0 in /usr/local/lib/python3.10/dist-packages (from matplotlib>=1.5.1->neupy) (4.39.3)\n",
            "Requirement already satisfied: kiwisolver>=1.0.1 in /usr/local/lib/python3.10/dist-packages (from matplotlib>=1.5.1->neupy) (1.4.4)\n",
            "Requirement already satisfied: packaging>=20.0 in /usr/local/lib/python3.10/dist-packages (from matplotlib>=1.5.1->neupy) (23.1)\n",
            "Requirement already satisfied: pillow>=6.2.0 in /usr/local/lib/python3.10/dist-packages (from matplotlib>=1.5.1->neupy) (8.4.0)\n",
            "Requirement already satisfied: pyparsing>=2.3.1 in /usr/local/lib/python3.10/dist-packages (from matplotlib>=1.5.1->neupy) (3.0.9)\n",
            "Requirement already satisfied: python-dateutil>=2.7 in /usr/local/lib/python3.10/dist-packages (from matplotlib>=1.5.1->neupy) (2.8.2)\n",
            "Building wheels for collected packages: tableprint, Theano\n",
            "  Building wheel for tableprint (setup.py) ... \u001b[?25l\u001b[?25hdone\n",
            "  Created wheel for tableprint: filename=tableprint-0.7.1-py3-none-any.whl size=6164 sha256=53539fbc07f73163797410a201f05de80b3f69bfda50202e791abc8f64f95254\n",
            "  Stored in directory: /root/.cache/pip/wheels/89/f4/89/e6e577409bbc25fed6dedef9b60b60df263bd4ce1cd5c222d5\n",
            "  Building wheel for Theano (setup.py) ... \u001b[?25l\u001b[?25hdone\n",
            "  Created wheel for Theano: filename=Theano-1.0.0-py3-none-any.whl size=2649594 sha256=80154e1f0119323a6f3c31dabbda1a44287594acb0d980e2355af4a1303bc92c\n",
            "  Stored in directory: /root/.cache/pip/wheels/d9/06/e7/b742d72dba1f1896f21519bcaf138ee5123f8e8e0cf424b382\n",
            "Successfully built tableprint Theano\n",
            "Installing collected packages: graphviz, tableprint, progressbar2, Theano, neupy\n",
            "  Attempting uninstall: graphviz\n",
            "    Found existing installation: graphviz 0.20.1\n",
            "    Uninstalling graphviz-0.20.1:\n",
            "      Successfully uninstalled graphviz-0.20.1\n",
            "  Attempting uninstall: progressbar2\n",
            "    Found existing installation: progressbar2 4.2.0\n",
            "    Uninstalling progressbar2-4.2.0:\n",
            "      Successfully uninstalled progressbar2-4.2.0\n",
            "Successfully installed Theano-1.0.0 graphviz-0.5.1 neupy-0.6.5 progressbar2-3.34.3 tableprint-0.7.1\n"
          ]
        }
      ]
    },
    {
      "cell_type": "code",
      "source": [
        "!pip install neurolab"
      ],
      "metadata": {
        "colab": {
          "base_uri": "https://localhost:8080/"
        },
        "id": "UXhZ30Igezlp",
        "outputId": "137ef954-34f9-4189-f484-23823b868809"
      },
      "execution_count": null,
      "outputs": [
        {
          "output_type": "stream",
          "name": "stdout",
          "text": [
            "Looking in indexes: https://pypi.org/simple, https://us-python.pkg.dev/colab-wheels/public/simple/\n",
            "Collecting neurolab\n",
            "  Downloading neurolab-0.3.5.tar.gz (645 kB)\n",
            "\u001b[2K     \u001b[90m━━━━━━━━━━━━━━━━━━━━━━━━━━━━━━━━━━━━━━\u001b[0m \u001b[32m645.3/645.3 kB\u001b[0m \u001b[31m10.0 MB/s\u001b[0m eta \u001b[36m0:00:00\u001b[0m\n",
            "\u001b[?25h  Preparing metadata (setup.py) ... \u001b[?25l\u001b[?25hdone\n",
            "Building wheels for collected packages: neurolab\n",
            "  Building wheel for neurolab (setup.py) ... \u001b[?25l\u001b[?25hdone\n",
            "  Created wheel for neurolab: filename=neurolab-0.3.5-py3-none-any.whl size=22180 sha256=f86d07f152e198705c88119b78d2273790055720f90d96326810ad906f56e879\n",
            "  Stored in directory: /root/.cache/pip/wheels/1d/c0/44/7142fa43c89473c5e63a750a00224e5f9ec9ca80613de1f97d\n",
            "Successfully built neurolab\n",
            "Installing collected packages: neurolab\n",
            "Successfully installed neurolab-0.3.5\n"
          ]
        }
      ]
    },
    {
      "cell_type": "markdown",
      "source": [
        "## Declaring Variables"
      ],
      "metadata": {
        "id": "FMKqdr0jood3"
      }
    },
    {
      "cell_type": "code",
      "source": [
        "# Set directory path and parameters\n",
        "data_dir = '/content/Brain-Tumor-Detection/augmented data'\n",
        "categories = ['yes', 'no']  # Names of the categories\n",
        "img_size = 256  # Size of the image after resizing\n",
        "num_classes = len(categories)\n",
        "batch_size = 16"
      ],
      "metadata": {
        "id": "CuhEZHEclOt3"
      },
      "execution_count": null,
      "outputs": []
    },
    {
      "cell_type": "markdown",
      "source": [
        "## Feature Extraction\n",
        "Here will define a function named extract_features(). this method takes image path as input and returns the features for each image. Alongwith the feature extraction, the preprocessing on the images is done. <br>\n",
        "In this method, we calculate the GLCM features based on contrast, dissimilarity, homogeneity, ASM,and energy."
      ],
      "metadata": {
        "id": "E3M9jtaqosoO"
      }
    },
    {
      "cell_type": "code",
      "source": [
        "# Extract GLCM features\n",
        "def extract_features(image_path):\n",
        "    # Load image and resize\n",
        "    img = plt.imread(image_path)\n",
        "    img = resize(img, (img_size, img_size), anti_aliasing=True)\n",
        "    \n",
        "    # Convert to grayscale\n",
        "    img_gray = rgb2gray(img)\n",
        "    \n",
        "    # Calculate GLCM\n",
        "    glcm = graycomatrix((img_gray * 255).astype('uint8'), distances=[5], angles=[0], levels=256, symmetric=True, normed=True)\n",
        "    \n",
        "    # Extract GLCM properties\n",
        "    contrast = graycoprops(glcm, 'contrast')[0, 0]\n",
        "    dissimilarity = graycoprops(glcm, 'dissimilarity')[0, 0]\n",
        "    homogeneity = graycoprops(glcm, 'homogeneity')[0, 0]\n",
        "    ASM = graycoprops(glcm, 'ASM')[0, 0]\n",
        "    energy = graycoprops(glcm, 'energy')[0, 0]\n",
        "    correlation = graycoprops(glcm, 'correlation')[0, 0]\n",
        "    \n",
        "    # Return features as an array\n",
        "    features = np.array([contrast, dissimilarity, homogeneity, ASM, energy, correlation])\n",
        "    return features\n"
      ],
      "metadata": {
        "id": "FrEmgswglSz_"
      },
      "execution_count": null,
      "outputs": []
    },
    {
      "cell_type": "markdown",
      "source": [
        "## Extracting Features and Preparing for Training\n",
        "In this step, we load each image, and calculate the features using the method defined earlier. <br>\n",
        "Finally, the features are split in train/val categories for training and testing."
      ],
      "metadata": {
        "id": "OqQdrGJjo07a"
      }
    },
    {
      "cell_type": "code",
      "source": [
        "# Load data and extract features\n",
        "X = []\n",
        "y = []\n",
        "for category in categories:\n",
        "    path = os.path.join(data_dir, category)\n",
        "    for img_name in os.listdir(path):\n",
        "        img_path = os.path.join(path, img_name)\n",
        "        features = extract_features(img_path)\n",
        "        X.append(features)\n",
        "        y.append(categories.index(category))\n",
        "# Convert to numpy arrays\n",
        "X = np.array(X)\n",
        "y = np.array(y)\n",
        "\n",
        "# Split data into training and validation sets\n",
        "X_train, X_val, y_train, y_val = train_test_split(X, y, test_size=0.2, random_state=42)"
      ],
      "metadata": {
        "id": "VYxYsMGZlWuu"
      },
      "execution_count": null,
      "outputs": []
    },
    {
      "cell_type": "markdown",
      "source": [
        "## Model Definition\n",
        "Here, an example PNN is defined for the explaination purposes. And, this PNN can further be improved for attaining more accuracy."
      ],
      "metadata": {
        "id": "kl24MKg3o8ox"
      }
    },
    {
      "cell_type": "code",
      "source": [
        "# Importing the required library for our PNN definition\n",
        "import neurolab as nl\n",
        "# Define the PNN model architecture\n",
        "input_size = X_train.shape[1]\n",
        "output_size = 1 # Binary classification task\n",
        "pnn = nl.net.newp(nl.tool.minmax(X_train), output_size)"
      ],
      "metadata": {
        "id": "oSU0j_n6jkcu"
      },
      "execution_count": null,
      "outputs": []
    },
    {
      "cell_type": "markdown",
      "source": [
        "## Model Training\n",
        "In this step, we train the model. We run the training for 10 epochs total. The hyperparameters (batch_size and epochs) can be changed for attaining better results."
      ],
      "metadata": {
        "id": "yDOZD92PpLQp"
      }
    },
    {
      "cell_type": "code",
      "source": [
        "# Train the PNN model\n",
        "pnn.train(X_train, y_train.reshape(-1, output_size), epochs=50)"
      ],
      "metadata": {
        "colab": {
          "base_uri": "https://localhost:8080/"
        },
        "id": "I__SRLhEpRZx",
        "outputId": "97b3296f-6ba5-4973-e585-85b9d7439ebb"
      },
      "execution_count": null,
      "outputs": [
        {
          "output_type": "stream",
          "name": "stdout",
          "text": [
            "The maximum number of train epochs is reached\n"
          ]
        },
        {
          "output_type": "execute_result",
          "data": {
            "text/plain": [
              "[390.5,\n",
              " 390.5,\n",
              " 390.5,\n",
              " 390.5,\n",
              " 390.5,\n",
              " 390.5,\n",
              " 390.5,\n",
              " 390.5,\n",
              " 390.5,\n",
              " 390.5,\n",
              " 390.5,\n",
              " 390.5,\n",
              " 390.5,\n",
              " 390.5,\n",
              " 390.5,\n",
              " 390.5,\n",
              " 390.5,\n",
              " 390.5,\n",
              " 390.5,\n",
              " 390.5,\n",
              " 390.5,\n",
              " 390.5,\n",
              " 390.5,\n",
              " 390.5,\n",
              " 390.5,\n",
              " 390.5,\n",
              " 390.5,\n",
              " 390.5,\n",
              " 390.5,\n",
              " 390.5,\n",
              " 390.5,\n",
              " 390.5,\n",
              " 390.5,\n",
              " 390.5,\n",
              " 390.5,\n",
              " 390.5,\n",
              " 390.5,\n",
              " 390.5,\n",
              " 390.5,\n",
              " 390.5,\n",
              " 390.5,\n",
              " 390.5,\n",
              " 390.5,\n",
              " 390.5,\n",
              " 390.5,\n",
              " 390.5,\n",
              " 390.5,\n",
              " 390.5,\n",
              " 390.5,\n",
              " 390.5]"
            ]
          },
          "metadata": {},
          "execution_count": 9
        }
      ]
    },
    {
      "cell_type": "markdown",
      "source": [
        "## Model Testing\n",
        "Now the accuracy and loss is calculated for our model. Here, val dataset is used, we can devide our dataset into three categories, train, test, and val as well. "
      ],
      "metadata": {
        "id": "MieRMxBTpQPD"
      }
    },
    {
      "cell_type": "code",
      "source": [
        "# Evaluate the PNN model on the val data\n",
        "predictions = pnn.sim(X_val)\n",
        "accuracy = (predictions == y_val.reshape(-1, output_size)).mean()\n",
        "print(f'Test accuracy: {accuracy}')"
      ],
      "metadata": {
        "colab": {
          "base_uri": "https://localhost:8080/"
        },
        "id": "ixWHk6Zqpa_i",
        "outputId": "71da485c-2b40-44a4-ee9e-c3c149a49704"
      },
      "execution_count": null,
      "outputs": [
        {
          "output_type": "stream",
          "name": "stdout",
          "text": [
            "Test accuracy: 0.5181598062953995\n"
          ]
        }
      ]
    }
  ]
}