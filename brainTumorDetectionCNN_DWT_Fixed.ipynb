{
  "nbformat": 4,
  "nbformat_minor": 0,
  "metadata": {
    "colab": {
      "provenance": []
    },
    "kernelspec": {
      "name": "python3",
      "display_name": "Python 3"
    },
    "language_info": {
      "name": "python"
    }
  },
  "cells": [
    {
      "cell_type": "markdown",
      "source": [
        "# CNN for Brain Tumor Detection based on DWT"
      ],
      "metadata": {
        "id": "cRvj6Pw3kEIN"
      }
    },
    {
      "cell_type": "markdown",
      "source": [
        "## Import the Dataset and Libraries\n",
        "In this section we need to get the dataset. The dataset is available on a github repository. The repository contains images of brain tumor and normal brain images. The author has also performed augmentation on the dataset, and it is also provided. We use the augmented images for our training purpose.\n",
        "<br>Once the repository is cloned, we will import all the required libraries that we need for our problem."
      ],
      "metadata": {
        "id": "F-VmdyODkJ3m"
      }
    },
    {
      "cell_type": "code",
      "source": [
        "!git  clone https://github.com/MohamedAliHabib/Brain-Tumor-Detection"
      ],
      "metadata": {
        "colab": {
          "base_uri": "https://localhost:8080/"
        },
        "id": "Zs5-h3S7PnIc",
        "outputId": "611d2ff8-e477-4ee3-b526-ed4fa3d841da"
      },
      "execution_count": null,
      "outputs": [
        {
          "output_type": "stream",
          "name": "stdout",
          "text": [
            "Cloning into 'Brain-Tumor-Detection'...\n",
            "remote: Enumerating objects: 2363, done.\u001b[K\n",
            "remote: Counting objects: 100% (11/11), done.\u001b[K\n",
            "remote: Compressing objects: 100% (7/7), done.\u001b[K\n",
            "remote: Total 2363 (delta 8), reused 4 (delta 4), pack-reused 2352\u001b[K\n",
            "Receiving objects: 100% (2363/2363), 43.21 MiB | 24.18 MiB/s, done.\n",
            "Resolving deltas: 100% (22/22), done.\n"
          ]
        }
      ]
    },
    {
      "cell_type": "code",
      "source": [
        "# Import necessary libraries\n",
        "import numpy as np\n",
        "import os\n",
        "from skimage.feature import greycomatrix, greycoprops\n",
        "from skimage.color import rgb2gray\n",
        "from keras.models import Sequential\n",
        "from keras.layers import Conv2D, MaxPooling2D, Flatten, Dense\n",
        "import matplotlib.pyplot as plt  # Import plt module for visualization\n",
        "from keras.models import Sequential\n",
        "from keras.layers import Conv2D, MaxPooling2D, Flatten, Dense\n",
        "from skimage.transform import resize\n",
        "from skimage.feature import graycoprops, graycomatrix\n",
        "\n"
      ],
      "metadata": {
        "id": "t64WIIkbylWE"
      },
      "execution_count": null,
      "outputs": []
    },
    {
      "cell_type": "markdown",
      "source": [
        "## Declaring Variables"
      ],
      "metadata": {
        "id": "WVcLVFZ8kY8M"
      }
    },
    {
      "cell_type": "code",
      "source": [
        "# Set directory path and parameters\n",
        "data_dir = '/content/Brain-Tumor-Detection/augmented data'\n",
        "categories = ['yes', 'no']  # Names of the categories\n",
        "img_size = 256  # Size of the image after resizing\n",
        "num_classes = len(categories)\n",
        "batch_size = 16"
      ],
      "metadata": {
        "id": "IpeRdYjSX7e8"
      },
      "execution_count": null,
      "outputs": []
    },
    {
      "cell_type": "markdown",
      "source": [
        "## Feature Extraction\n",
        "Here will define a function named extract_features(). this method takes image path as input and returns the features for each image. Alongwith the feature extraction, the preprocessing on the images is done. <br>\n",
        "In this method, we calculate the DWT (Discrete Wavelet Transform) features for each image so that the features maybe used for the training purposes. The DWT features are calculated based on mean, variance, maximum, minimum, energy, and entropy. We have calculated six features in this example."
      ],
      "metadata": {
        "id": "70w40m9XkOHk"
      }
    },
    {
      "cell_type": "code",
      "source": [
        "import numpy as np\n",
        "import matplotlib.pyplot as plt\n",
        "import pywt\n",
        "from skimage.transform import resize\n",
        "from skimage.color import rgb2gray\n",
        "\n",
        "def extract_features(image_path):\n",
        "    # Load image and resize\n",
        "    img = plt.imread(image_path)\n",
        "    img_size = 256  # Specify the desired image size\n",
        "    img = resize(img, (img_size, img_size), anti_aliasing=True)\n",
        "\n",
        "    # Convert to grayscale\n",
        "    img_gray = rgb2gray(img)\n",
        "\n",
        "    # Calculate DWT coefficients\n",
        "    cA, (cH, cV, cD) = pywt.dwt2(img_gray, 'haar')\n",
        "\n",
        "    # Extract DWT features\n",
        "    dwt_mean = np.mean(cA)\n",
        "    dwt_var = np.var(cA)\n",
        "    dwt_max = np.max(cA)\n",
        "    dwt_min = np.min(cA)\n",
        "    dwt_energy = np.sum(np.square(cA))\n",
        "    cA_squared = np.square(cA)\n",
        "    epsilon = 1e-10  # Small constant to avoid division by zero\n",
        "    dwt_entropy = -np.sum(cA_squared * np.log(cA_squared + epsilon))\n",
        "\n",
        "    # Return features as an array\n",
        "    features = np.array([dwt_mean, dwt_var, dwt_max, dwt_min, dwt_energy, dwt_entropy])\n",
        "    return features\n"
      ],
      "metadata": {
        "id": "B_-wOE10g3Xi"
      },
      "execution_count": null,
      "outputs": []
    },
    {
      "cell_type": "markdown",
      "source": [
        "## Extracting Features and Preparing for Training\n",
        "In this step, we load each image, and calculate the features using the method defined earlier. <br>\n",
        "Finally, the features are split in train/val categories for training and testing"
      ],
      "metadata": {
        "id": "Dr_r9HeOkdlb"
      }
    },
    {
      "cell_type": "code",
      "source": [
        "# Load data and extract features\n",
        "X = []\n",
        "y = []\n",
        "for category in categories:\n",
        "    path = os.path.join(data_dir, category)\n",
        "    for img_name in os.listdir(path):\n",
        "        img_path = os.path.join(path, img_name)\n",
        "        features = extract_features(img_path)\n",
        "        X.append(features)\n",
        "        y.append(categories.index(category))\n",
        "\n",
        "# Convert to numpy arrays\n",
        "X = np.array(X)\n",
        "y = np.array(y)\n",
        "\n",
        "# Split data into training and validation sets\n",
        "from sklearn.model_selection import train_test_split\n",
        "X_train, X_val, y_train, y_val = train_test_split(X, y, test_size=0.2, random_state=42)\n",
        "\n"
      ],
      "metadata": {
        "id": "z1DMDtEKYAAm"
      },
      "execution_count": null,
      "outputs": []
    },
    {
      "cell_type": "markdown",
      "source": [
        "## Model Definition\n",
        "Here, an example CNN is defined for the explaination purposes. And, this CNN can further be improved for attaining more accuracy."
      ],
      "metadata": {
        "id": "dtIS7qXfkpKO"
      }
    },
    {
      "cell_type": "code",
      "source": [
        "# Build CNN model\n",
        "model = Sequential()\n",
        "model.add(Dense(128, activation='relu', input_dim=6))\n",
        "model.add(Dense(64, activation='relu'))\n",
        "model.add(Dense(num_classes, activation='softmax'))\n",
        "\n",
        "# Compile the model\n",
        "model.compile(optimizer='adam', loss='sparse_categorical_crossentropy', metrics=['accuracy'])\n",
        "\n"
      ],
      "metadata": {
        "id": "1vdKqengYDcs"
      },
      "execution_count": null,
      "outputs": []
    },
    {
      "cell_type": "markdown",
      "source": [
        "## Model Training\n",
        "In this step, we train the model. We run the training for 10 epochs total. The hyperparameters (batch_size and epochs) can be changed for attaining better results."
      ],
      "metadata": {
        "id": "9s-42ZkSkvti"
      }
    },
    {
      "cell_type": "code",
      "source": [
        "# Train the model\n",
        "model.fit(X_train, y_train, batch_size=batch_size, epochs=10, validation_data=(X_val, y_val))"
      ],
      "metadata": {
        "colab": {
          "base_uri": "https://localhost:8080/"
        },
        "id": "nlsNAOEekwKQ",
        "outputId": "729730e9-8c03-4b94-d355-68c97556c78c"
      },
      "execution_count": null,
      "outputs": [
        {
          "output_type": "stream",
          "name": "stdout",
          "text": [
            "Epoch 1/10\n",
            "104/104 [==============================] - 2s 6ms/step - loss: 42.7494 - accuracy: 0.5630 - val_loss: 40.4533 - val_accuracy: 0.4843\n",
            "Epoch 2/10\n",
            "104/104 [==============================] - 0s 3ms/step - loss: 22.9393 - accuracy: 0.5623 - val_loss: 17.0413 - val_accuracy: 0.6586\n",
            "Epoch 3/10\n",
            "104/104 [==============================] - 0s 3ms/step - loss: 18.3495 - accuracy: 0.5593 - val_loss: 61.0736 - val_accuracy: 0.5545\n",
            "Epoch 4/10\n",
            "104/104 [==============================] - 0s 3ms/step - loss: 19.7356 - accuracy: 0.5406 - val_loss: 13.5006 - val_accuracy: 0.5036\n",
            "Epoch 5/10\n",
            "104/104 [==============================] - 0s 4ms/step - loss: 16.1754 - accuracy: 0.5708 - val_loss: 23.2185 - val_accuracy: 0.4722\n",
            "Epoch 6/10\n",
            "104/104 [==============================] - 0s 3ms/step - loss: 21.2043 - accuracy: 0.5563 - val_loss: 17.0412 - val_accuracy: 0.6126\n",
            "Epoch 7/10\n",
            "104/104 [==============================] - 0s 2ms/step - loss: 16.9099 - accuracy: 0.5478 - val_loss: 22.3589 - val_accuracy: 0.5714\n",
            "Epoch 8/10\n",
            "104/104 [==============================] - 0s 2ms/step - loss: 18.8558 - accuracy: 0.5642 - val_loss: 30.5754 - val_accuracy: 0.5642\n",
            "Epoch 9/10\n",
            "104/104 [==============================] - 0s 3ms/step - loss: 14.9152 - accuracy: 0.5684 - val_loss: 9.5032 - val_accuracy: 0.6247\n",
            "Epoch 10/10\n",
            "104/104 [==============================] - 0s 2ms/step - loss: 8.9783 - accuracy: 0.5714 - val_loss: 7.6394 - val_accuracy: 0.6174\n"
          ]
        },
        {
          "output_type": "execute_result",
          "data": {
            "text/plain": [
              "<keras.callbacks.History at 0x7f9a909afd60>"
            ]
          },
          "metadata": {},
          "execution_count": 7
        }
      ]
    },
    {
      "cell_type": "markdown",
      "source": [
        "## Model Testing\n",
        "Now the accuracy and loss is calculated for our model. Here, val dataset is used, we can devide our dataset into three categories, train, test, and val as well. "
      ],
      "metadata": {
        "id": "O5EpWzQNkr9v"
      }
    },
    {
      "cell_type": "code",
      "source": [
        "# Evaluate the model on the test data\n",
        "loss, accuracy = model.evaluate(X_val, y_val)\n",
        "print(\"Test accuracy:\", accuracy)"
      ],
      "metadata": {
        "colab": {
          "base_uri": "https://localhost:8080/"
        },
        "id": "Dxfn74oiylMm",
        "outputId": "92331d75-8ccd-46c2-ba41-3bd4afe516be"
      },
      "execution_count": null,
      "outputs": [
        {
          "output_type": "stream",
          "name": "stdout",
          "text": [
            "13/13 [==============================] - 0s 2ms/step - loss: 7.6394 - accuracy: 0.6174\n",
            "Test accuracy: 0.6174334287643433\n"
          ]
        }
      ]
    }
  ]
}